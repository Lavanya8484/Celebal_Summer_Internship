{
  "nbformat": 4,
  "nbformat_minor": 0,
  "metadata": {
    "colab": {
      "provenance": [],
      "authorship_tag": "ABX9TyMEPkQHsW3GtMN9vYBVRM9n",
      "include_colab_link": true
    },
    "kernelspec": {
      "name": "python3",
      "display_name": "Python 3"
    },
    "language_info": {
      "name": "python"
    }
  },
  "cells": [
    {
      "cell_type": "markdown",
      "metadata": {
        "id": "view-in-github",
        "colab_type": "text"
      },
      "source": [
        "<a href=\"https://colab.research.google.com/github/Lavanya8484/Celebal_Summer_Internship/blob/main/Untitled1.ipynb\" target=\"_parent\"><img src=\"https://colab.research.google.com/assets/colab-badge.svg\" alt=\"Open In Colab\"/></a>"
      ]
    },
    {
      "cell_type": "code",
      "execution_count": null,
      "metadata": {
        "id": "9nl5RpjiA19Z"
      },
      "outputs": [],
      "source": [
        "import pandas as pd\n",
        "import matplotlib.pyplot as plt\n",
        "\n",
        "# Sample dataset\n",
        "data = {\n",
        "    'Month': ['Jan', 'Feb', 'Mar', 'Apr', 'May', 'Jun',\n",
        "              'Jul', 'Aug', 'Sep', 'Oct', 'Nov', 'Dec'],\n",
        "    'Product_A': [120, 135, 150, 160, 170, 180, 175, 190, 200, 210, 220, 230],\n",
        "    'Product_B': [80, 95, 100, 110, 120, 130, 125, 140, 145, 155, 160, 170]\n",
        "}\n",
        "\n",
        "df = pd.DataFrame(data)\n",
        "\n",
        "# Line plot\n",
        "plt.figure(figsize=(10, 5))\n",
        "plt.plot(df['Month'], df['Product_A'], marker='o', label='Product A')\n",
        "plt.plot(df['Month'], df['Product_B'], marker='s', label='Product B')\n",
        "plt.title('Monthly Sales Data')\n",
        "plt.xlabel('Month')\n",
        "plt.ylabel('Units Sold')\n",
        "plt.grid(True)\n",
        "plt.legend()\n",
        "plt.tight_layout()\n",
        "plt.show()\n"
      ]
    }
  ]
}